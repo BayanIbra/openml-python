{
  "metadata": {
    "kernelspec": {
      "name": "python3",
      "display_name": "Python 3",
      "language": "python"
    },
    "language_info": {
      "name": "python",
      "mimetype": "text/x-python",
      "file_extension": ".py",
      "pygments_lexer": "ipython3",
      "nbconvert_exporter": "python",
      "version": "3.5.5",
      "codemirror_mode": {
        "name": "ipython",
        "version": 3
      }
    }
  },
  "nbformat_minor": 0,
  "cells": [
    {
      "metadata": {
        "collapsed": false
      },
      "source": [
        "%matplotlib inline"
      ],
      "execution_count": null,
      "cell_type": "code",
      "outputs": []
    },
    {
      "metadata": {},
      "source": [
        "\nFlows and Runs\n==============\n\nHow to train/run a model and how to upload the results.\n\n"
      ],
      "cell_type": "markdown"
    },
    {
      "metadata": {
        "collapsed": false
      },
      "source": [
        "import openml\nimport pandas as pd\nimport seaborn as sns\nfrom pprint import pprint\nfrom sklearn import ensemble, neighbors, preprocessing, pipeline, tree"
      ],
      "execution_count": null,
      "cell_type": "code",
      "outputs": []
    },
    {
      "metadata": {},
      "source": [
        "Train machine learning models\n^^^^^^^^^^^^^^^^^^^^^^^^^^^^^\n\nTrain a scikit-learn model on the data manually.\n\n"
      ],
      "cell_type": "markdown"
    },
    {
      "metadata": {
        "collapsed": false
      },
      "source": [
        "dataset = openml.datasets.get_dataset(68)\nX, y = dataset.get_data(\n    target=dataset.default_target_attribute\n)\nclf = neighbors.KNeighborsClassifier(n_neighbors=1)\nclf.fit(X, y)"
      ],
      "execution_count": null,
      "cell_type": "code",
      "outputs": []
    },
    {
      "metadata": {},
      "source": [
        "You can also ask for meta-data to automatically preprocess the data.\n\n* e.g. categorical features -> do feature encoding\n\n"
      ],
      "cell_type": "markdown"
    },
    {
      "metadata": {
        "collapsed": false
      },
      "source": [
        "dataset = openml.datasets.get_dataset(17)\nX, y, categorical = dataset.get_data(\n    target=dataset.default_target_attribute,\n    return_categorical_indicator=True,\n)\nprint(\"Categorical features: %s\" % categorical)\nenc = preprocessing.OneHotEncoder(categorical_features=categorical)\nX = enc.fit_transform(X)\nclf.fit(X, y)"
      ],
      "execution_count": null,
      "cell_type": "code",
      "outputs": []
    },
    {
      "metadata": {},
      "source": [
        "Runs: Easily explore models\n^^^^^^^^^^^^^^^^^^^^^^^^^^^\nWe can run (many) scikit-learn algorithms on (many) OpenML tasks.\n\n"
      ],
      "cell_type": "markdown"
    },
    {
      "metadata": {
        "collapsed": false
      },
      "source": [
        "# Get a task\ntask = openml.tasks.get_task(403)\n\n# Build any classifier or pipeline\nclf = tree.ExtraTreeClassifier()\n\n# Create a flow\nflow = openml.flows.sklearn_to_flow(clf)\n\n# Run the flow\nrun = openml.runs.run_flow_on_task(flow, task)\n\n# pprint(vars(run), depth=2)"
      ],
      "execution_count": null,
      "cell_type": "code",
      "outputs": []
    },
    {
      "metadata": {},
      "source": [
        "Share the run on the OpenML server\n\nSo far the run is only available locally. By calling the publish function, the run is send to the OpenML server:\n\n"
      ],
      "cell_type": "markdown"
    },
    {
      "metadata": {
        "collapsed": false
      },
      "source": [
        "myrun = run.publish()\n# For this tutorial, our configuration publishes to the test server\n# as to not pollute the main server.\nprint(\"Uploaded to http://test.openml.org/r/\" + str(myrun.run_id))"
      ],
      "execution_count": null,
      "cell_type": "code",
      "outputs": []
    },
    {
      "metadata": {},
      "source": [
        "We can now also inspect the flow object which was automatically created:\n\n"
      ],
      "cell_type": "markdown"
    },
    {
      "metadata": {
        "collapsed": false
      },
      "source": [
        "flow = openml.flows.get_flow(run.flow_id)\npprint(vars(flow), depth=1)"
      ],
      "execution_count": null,
      "cell_type": "code",
      "outputs": []
    },
    {
      "metadata": {},
      "source": [
        "It also works with pipelines\n############################\n\nWhen you need to handle 'dirty' data, build pipelines to model then automatically.\n\n"
      ],
      "cell_type": "markdown"
    },
    {
      "metadata": {
        "collapsed": false
      },
      "source": [
        "task = openml.tasks.get_task(115)\npipe = pipeline.Pipeline(steps=[\n    ('Imputer', preprocessing.Imputer(strategy='median')),\n    ('OneHotEncoder', preprocessing.OneHotEncoder(sparse=False, handle_unknown='ignore')),\n    ('Classifier', ensemble.RandomForestClassifier())\n])\nflow = openml.flows.sklearn_to_flow(pipe)\n\nrun = openml.runs.run_flow_on_task(flow, task, avoid_duplicate_runs=False)\nmyrun = run.publish()\nprint(\"Uploaded to http://test.openml.org/r/\" + str(myrun.run_id))"
      ],
      "execution_count": null,
      "cell_type": "code",
      "outputs": []
    },
    {
      "metadata": {},
      "source": [
        "Challenge\n^^^^^^^^^\n\nTry to build the best possible models on several OpenML tasks,\ncompare your results with the rest of the class and learn from\nthem. Some tasks you could try (or browse openml.org):\n\n* EEG eye state: data_id:`1471 <http://www.openml.org/d/1471>`_, task_id:`14951 <http://www.openml.org/t/14951>`_\n* Volcanoes on Venus: data_id:`1527 <http://www.openml.org/d/1527>`_, task_id:`10103 <http://www.openml.org/t/10103>`_\n* Walking activity: data_id:`1509 <http://www.openml.org/d/1509>`_, task_id:`9945 <http://www.openml.org/t/9945>`_, 150k instances.\n* Covertype (Satellite): data_id:`150 <http://www.openml.org/d/150>`_, task_id:`218 <http://www.openml.org/t/218>`_, 500k instances.\n* Higgs (Physics): data_id:`23512 <http://www.openml.org/d/23512>`_, task_id:`52950 <http://www.openml.org/t/52950>`_, 100k instances, missing values.\n\n"
      ],
      "cell_type": "markdown"
    },
    {
      "metadata": {
        "collapsed": false
      },
      "source": [
        "# Easy benchmarking:\nfor task_id in [115, ]:  # Add further tasks. Disclaimer: they might take some time\n    task = openml.tasks.get_task(task_id)\n    data = openml.datasets.get_dataset(task.dataset_id)\n    clf = neighbors.KNeighborsClassifier(n_neighbors=5)\n    flow = openml.flows.sklearn_to_flow(clf)\n\n    run = openml.runs.run_flow_on_task(flow, task, avoid_duplicate_runs=False)\n    myrun = run.publish()\n    print(\"kNN on %s: http://test.openml.org/r/%d\" % (data.name, myrun.run_id))"
      ],
      "execution_count": null,
      "cell_type": "code",
      "outputs": []
    }
  ],
  "nbformat": 4
}