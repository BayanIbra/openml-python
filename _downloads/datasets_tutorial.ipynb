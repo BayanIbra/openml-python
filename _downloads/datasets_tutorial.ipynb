{
  "metadata": {
    "kernelspec": {
      "name": "python3",
      "display_name": "Python 3",
      "language": "python"
    },
    "language_info": {
      "name": "python",
      "mimetype": "text/x-python",
      "file_extension": ".py",
      "pygments_lexer": "ipython3",
      "nbconvert_exporter": "python",
      "version": "3.5.5",
      "codemirror_mode": {
        "name": "ipython",
        "version": 3
      }
    }
  },
  "nbformat_minor": 0,
  "cells": [
    {
      "metadata": {
        "collapsed": false
      },
      "source": [
        "%matplotlib inline"
      ],
      "execution_count": null,
      "cell_type": "code",
      "outputs": []
    },
    {
      "metadata": {},
      "source": [
        "\n# Datasets\n\n\nHow to list and download datasets.\n\n"
      ],
      "cell_type": "markdown"
    },
    {
      "metadata": {
        "collapsed": false
      },
      "source": [
        "import openml\nimport pandas as pd"
      ],
      "execution_count": null,
      "cell_type": "code",
      "outputs": []
    },
    {
      "metadata": {},
      "source": [
        "List datasets\n=============\n\n"
      ],
      "cell_type": "markdown"
    },
    {
      "metadata": {
        "collapsed": false
      },
      "source": [
        "openml_list = openml.datasets.list_datasets()  # returns a dict\n\n# Show a nice table with some key data properties\ndatalist = pd.DataFrame.from_dict(openml_list, orient='index')\ndatalist = datalist[[\n    'did', 'name', 'NumberOfInstances',\n    'NumberOfFeatures', 'NumberOfClasses'\n]]\n\nprint(\"First 10 of %s datasets...\" % len(datalist))\ndatalist.head(n=10)"
      ],
      "execution_count": null,
      "cell_type": "code",
      "outputs": []
    },
    {
      "metadata": {},
      "source": [
        "Exercise 1\n**********\n\n* Find datasets with more than 10000 examples.\n* Find a dataset called 'eeg_eye_state'.\n* Find all datasets with more than 50 classes.\n\n"
      ],
      "cell_type": "markdown"
    },
    {
      "metadata": {
        "collapsed": false
      },
      "source": [
        "datalist[datalist.NumberOfInstances > 10000\n         ].sort_values(['NumberOfInstances']).head(n=20)"
      ],
      "execution_count": null,
      "cell_type": "code",
      "outputs": []
    },
    {
      "metadata": {
        "collapsed": false
      },
      "source": [
        "datalist.query('name == \"eeg-eye-state\"')"
      ],
      "execution_count": null,
      "cell_type": "code",
      "outputs": []
    },
    {
      "metadata": {
        "collapsed": false
      },
      "source": [
        "datalist.query('NumberOfClasses > 50')"
      ],
      "execution_count": null,
      "cell_type": "code",
      "outputs": []
    },
    {
      "metadata": {},
      "source": [
        "Download datasets\n=================\n\n"
      ],
      "cell_type": "markdown"
    },
    {
      "metadata": {
        "collapsed": false
      },
      "source": [
        "# This is done based on the dataset ID ('did').\ndataset = openml.datasets.get_dataset(68)\n\n# Print a summary\nprint(\"This is dataset '%s', the target feature is '%s'\" %\n      (dataset.name, dataset.default_target_attribute))\nprint(\"URL: %s\" % dataset.url)\nprint(dataset.description[:500])"
      ],
      "execution_count": null,
      "cell_type": "code",
      "outputs": []
    },
    {
      "metadata": {},
      "source": [
        "Get the actual data.\n\nReturned as numpy array, with meta-info (e.g. target feature, feature names,...)\n\n"
      ],
      "cell_type": "markdown"
    },
    {
      "metadata": {
        "collapsed": false
      },
      "source": [
        "X, y, attribute_names = dataset.get_data(\n    target=dataset.default_target_attribute,\n    return_attribute_names=True,\n)\neeg = pd.DataFrame(X, columns=attribute_names)\neeg['class'] = y\nprint(eeg[:10])"
      ],
      "execution_count": null,
      "cell_type": "code",
      "outputs": []
    },
    {
      "metadata": {},
      "source": [
        "Exercise 2\n**********\n* Explore the data visually.\n\n"
      ],
      "cell_type": "markdown"
    },
    {
      "metadata": {
        "collapsed": false
      },
      "source": [
        "eegs = eeg.sample(n=1000)\n_ = pd.plotting.scatter_matrix(\n    eegs.iloc[:100, :4],\n    c=eegs[:100]['class'],\n    figsize=(10, 10),\n    marker='o',\n    hist_kwds={'bins': 20},\n    alpha=.8,\n    cmap='plasma'\n)"
      ],
      "execution_count": null,
      "cell_type": "code",
      "outputs": []
    }
  ],
  "nbformat": 4
}