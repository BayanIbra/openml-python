{
  "nbformat_minor": 0,
  "metadata": {
    "kernelspec": {
      "name": "python3",
      "language": "python",
      "display_name": "Python 3"
    },
    "language_info": {
      "codemirror_mode": {
        "version": 3,
        "name": "ipython"
      },
      "name": "python",
      "mimetype": "text/x-python",
      "nbconvert_exporter": "python",
      "version": "3.5.5",
      "pygments_lexer": "ipython3",
      "file_extension": ".py"
    }
  },
  "cells": [
    {
      "cell_type": "code",
      "execution_count": null,
      "metadata": {
        "collapsed": false
      },
      "source": [
        "%matplotlib inline"
      ],
      "outputs": []
    },
    {
      "cell_type": "markdown",
      "source": [
        "\nTasks\n=====\n\nA tutorial on how to list and download tasks.\n\n"
      ],
      "metadata": {}
    },
    {
      "cell_type": "code",
      "execution_count": null,
      "metadata": {
        "collapsed": false
      },
      "source": [
        "import openml\nimport pandas as pd\nfrom pprint import pprint"
      ],
      "outputs": []
    },
    {
      "cell_type": "markdown",
      "source": [
        "Tasks are identified by IDs and can be accessed in two different ways:\n\n1. In a list providing basic information on all tasks available on OpenML. This function will not download the actual tasks, but will instead download meta data that can be used to filter the tasks and retrieve a set of IDs. We can filter this list, for example, we can only list tasks having a special tag or only tasks for a specific target such as *supervised classification*.\n\n2. A single task by its ID. It contains all meta information, the target metric, the splits and an iterator which can be used to access the splits in a useful manner.\n\n"
      ],
      "metadata": {}
    },
    {
      "cell_type": "markdown",
      "source": [
        "Listing tasks\n^^^^^^^^^^^^^\n\nWe will start by simply listing only *supervised classification* tasks:\n\n"
      ],
      "metadata": {}
    },
    {
      "cell_type": "code",
      "execution_count": null,
      "metadata": {
        "collapsed": false
      },
      "source": [
        "tasks = openml.tasks.list_tasks(task_type_id=1)"
      ],
      "outputs": []
    },
    {
      "cell_type": "markdown",
      "source": [
        "**openml.tasks.list_tasks()** returns a dictionary of dictionaries, we convert it into a\n`pandas dataframe <http://pandas.pydata.org/pandas-docs/stable/generated/pandas.DataFrame.html>`_\nto have better visualization and easier access:\n\n"
      ],
      "metadata": {}
    },
    {
      "cell_type": "code",
      "execution_count": null,
      "metadata": {
        "collapsed": false
      },
      "source": [
        "tasks = pd.DataFrame.from_dict(tasks, orient='index')\nprint(tasks.columns)\nprint(\"First 5 of %s tasks:\" % len(tasks))\ntasks.head()"
      ],
      "outputs": []
    },
    {
      "cell_type": "markdown",
      "source": [
        "We can filter the list of tasks to only contain datasets with more than 500 samples, but less than 1000 samples:\n\n"
      ],
      "metadata": {}
    },
    {
      "cell_type": "code",
      "execution_count": null,
      "metadata": {
        "collapsed": false
      },
      "source": [
        "filtered_tasks = tasks.query('NumberOfInstances > 500 and NumberOfInstances < 1000')\nprint(list(filtered_tasks.index))"
      ],
      "outputs": []
    },
    {
      "cell_type": "code",
      "execution_count": null,
      "metadata": {
        "collapsed": false
      },
      "source": [
        "# Number of tasks\nprint(len(filtered_tasks))"
      ],
      "outputs": []
    },
    {
      "cell_type": "markdown",
      "source": [
        "Then, we can further restrict the tasks to all have the same resampling strategy:\n\n"
      ],
      "metadata": {}
    },
    {
      "cell_type": "code",
      "execution_count": null,
      "metadata": {
        "collapsed": false
      },
      "source": [
        "filtered_tasks = filtered_tasks.query('estimation_procedure == \"10-fold Crossvalidation\"')\nprint(list(filtered_tasks.index))"
      ],
      "outputs": []
    },
    {
      "cell_type": "code",
      "execution_count": null,
      "metadata": {
        "collapsed": false
      },
      "source": [
        "# Number of tasks\nprint(len(filtered_tasks))"
      ],
      "outputs": []
    },
    {
      "cell_type": "markdown",
      "source": [
        "Resampling strategies can be found on the `OpenML Website <http://www.openml.org/search?type=measure&q=estimation%20procedure>`_.\n\nSimilar to listing tasks by task type, we can list tasks by tags:\n\n"
      ],
      "metadata": {}
    },
    {
      "cell_type": "code",
      "execution_count": null,
      "metadata": {
        "collapsed": false
      },
      "source": [
        "tasks = openml.tasks.list_tasks(tag='OpenML100')\ntasks = pd.DataFrame.from_dict(tasks, orient='index')"
      ],
      "outputs": []
    },
    {
      "cell_type": "markdown",
      "source": [
        "**OpenML 100**\nis a curated list of 100 tasks to start using OpenML. They are all\nsupervised classification tasks with more than 500 instances and less than 50000\ninstances per task. To make things easier, the tasks do not contain highly\nunbalanced data and sparse data. However, the tasks include missing values and\ncategorical features. You can find out more about the *OpenML 100* on\n`the OpenML benchmarking page <https://www.openml.org/guide/benchmark>`_.\n\nFinally, it is also possible to list all tasks on OpenML with:\n\n"
      ],
      "metadata": {}
    },
    {
      "cell_type": "code",
      "execution_count": null,
      "metadata": {
        "collapsed": false
      },
      "source": [
        "tasks = openml.tasks.list_tasks()\ntasks = pd.DataFrame.from_dict(tasks, orient='index')\nprint(len(tasks))"
      ],
      "outputs": []
    },
    {
      "cell_type": "markdown",
      "source": [
        "Exercise\n########\n\nSearch for the tasks on the 'eeg-eye-state' dataset.\n\n"
      ],
      "metadata": {}
    },
    {
      "cell_type": "code",
      "execution_count": null,
      "metadata": {
        "collapsed": false
      },
      "source": [
        "tasks.query('name==\"eeg-eye-state\"')"
      ],
      "outputs": []
    },
    {
      "cell_type": "markdown",
      "source": [
        "Downloading tasks\n^^^^^^^^^^^^^^^^^\n\nWe provide two functions to download tasks, one which downloads only a single task by its ID, and one which takes a list of IDs and downloads all of these tasks:\n\n"
      ],
      "metadata": {}
    },
    {
      "cell_type": "code",
      "execution_count": null,
      "metadata": {
        "collapsed": false
      },
      "source": [
        "task_id = 1\ntask = openml.tasks.get_task(task_id)"
      ],
      "outputs": []
    },
    {
      "cell_type": "markdown",
      "source": [
        "Properties of the task are stored as member variables:\n\n"
      ],
      "metadata": {}
    },
    {
      "cell_type": "code",
      "execution_count": null,
      "metadata": {
        "collapsed": false
      },
      "source": [
        "pprint(vars(task))"
      ],
      "outputs": []
    },
    {
      "cell_type": "markdown",
      "source": [
        "And:\n\n"
      ],
      "metadata": {}
    },
    {
      "cell_type": "code",
      "execution_count": null,
      "metadata": {
        "collapsed": false
      },
      "source": [
        "ids = [1, 2, 19, 97, 403]\ntasks = openml.tasks.get_tasks(ids)\npprint(tasks[0])"
      ],
      "outputs": []
    }
  ],
  "nbformat": 4
}