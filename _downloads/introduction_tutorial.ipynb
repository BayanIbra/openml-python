{
  "metadata": {
    "kernelspec": {
      "name": "python3",
      "display_name": "Python 3",
      "language": "python"
    },
    "language_info": {
      "name": "python",
      "mimetype": "text/x-python",
      "file_extension": ".py",
      "pygments_lexer": "ipython3",
      "nbconvert_exporter": "python",
      "version": "3.5.5",
      "codemirror_mode": {
        "name": "ipython",
        "version": 3
      }
    }
  },
  "nbformat_minor": 0,
  "cells": [
    {
      "metadata": {
        "collapsed": false
      },
      "source": [
        "%matplotlib inline"
      ],
      "execution_count": null,
      "cell_type": "code",
      "outputs": []
    },
    {
      "metadata": {},
      "source": [
        "\nIntroduction\n===================\n\nAn introduction to OpenML, followed up by a simple example.\n\n"
      ],
      "cell_type": "markdown"
    },
    {
      "metadata": {},
      "source": [
        "OpenML is an online collaboration platform for machine learning which allows\nyou to:\n\n* Find or share interesting, well-documented datasets\n* Define research / modelling goals (tasks)\n* Explore large amounts of machine learning algorithms, with APIs in Java, R, Python\n* Log and share reproducible experiments, models, results\n* Works seamlessly with scikit-learn and other libraries\n* Large scale benchmarking, compare to state of the art\n\nInstallation\n^^^^^^^^^^^^\nInstallation is done via ``pip``:\n\n.. code:: bash\n\n    pip install openml\n\nFor further information, please check out the installation guide at https://openml.github.io/openml-python/stable/contributing.html#installation\n\nAuthentication\n^^^^^^^^^^^^^^\n\nThe OpenML server can only be accessed by users who have signed up on the OpenML platform. If you don\u2019t have an account yet, sign up now.\nYou will receive an API key, which will authenticate you to the server and allow you to download and upload datasets, tasks, runs and flows.\n\n* Create an OpenML account (free) on http://www.openml.org.\n* After logging in, open your account page (avatar on the top right)\n* Open 'Account Settings', then 'API authentication' to find your API key.\n\nThere are two ways to authenticate:\n\n* Create a plain text file **~/.openml/config** with the line **'apikey=MYKEY'**, replacing **MYKEY** with your API key. The config file must be in the directory ~/.openml/config and exist prior to importing the openml module\n* Run the code below, replacing 'YOURKEY' with your API key.\n\n"
      ],
      "cell_type": "markdown"
    },
    {
      "metadata": {
        "collapsed": false
      },
      "source": [
        "import openml\nfrom sklearn import neighbors\n\n# Uncomment and set your OpenML key. Don't share your key with others.\n# openml.config.apikey = 'YOURKEY'"
      ],
      "execution_count": null,
      "cell_type": "code",
      "outputs": []
    },
    {
      "metadata": {},
      "source": [
        "Caching\n^^^^^^^\nWhen downloading datasets, tasks, runs and flows, they will be cached to retrieve them without calling the server later. As with the API key, the cache directory can be either specified through the config file or through the API:\n\n* Add the  line **cachedir = 'MYDIR'** to the config file, replacing 'MYDIR' with the path to the cache directory. By default, OpenML will use **~/.openml/cache** as the cache directory.\n* Run the code below, replacing 'YOURDIR' with the path to the cache directory.\n\n"
      ],
      "cell_type": "markdown"
    },
    {
      "metadata": {
        "collapsed": false
      },
      "source": [
        "import os\n# Uncomment and set your OpenML cache directory\n# openml.config.cache_directory = os.path.expanduser('YOURDIR')"
      ],
      "execution_count": null,
      "cell_type": "code",
      "outputs": []
    },
    {
      "metadata": {},
      "source": [
        "Simple Example\n^^^^^^^^^^^^^^\nDownload the OpenML task for the eeg-eye-state.\n\n"
      ],
      "cell_type": "markdown"
    },
    {
      "metadata": {
        "collapsed": false
      },
      "source": [
        "task = openml.tasks.get_task(403)\ndata = openml.datasets.get_dataset(task.dataset_id)\nclf = neighbors.KNeighborsClassifier(n_neighbors=5)\nflow = openml.flows.sklearn_to_flow(clf)\nrun = openml.runs.run_flow_on_task(flow, task, avoid_duplicate_runs=False)\n# Publish the experiment on OpenML (optional, requires an API key).\n# For this tutorial, our configuration publishes to the test server\n# as to not pollute the main server.\nmyrun = run.publish()\nprint(\"kNN on %s: http://test.openml.org/r/%d\" % (data.name, myrun.run_id))"
      ],
      "execution_count": null,
      "cell_type": "code",
      "outputs": []
    }
  ],
  "nbformat": 4
}