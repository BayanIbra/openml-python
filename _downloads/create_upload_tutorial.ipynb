{
  "metadata": {
    "kernelspec": {
      "name": "python3",
      "display_name": "Python 3",
      "language": "python"
    },
    "language_info": {
      "name": "python",
      "mimetype": "text/x-python",
      "file_extension": ".py",
      "pygments_lexer": "ipython3",
      "nbconvert_exporter": "python",
      "version": "3.5.5",
      "codemirror_mode": {
        "name": "ipython",
        "version": 3
      }
    }
  },
  "nbformat_minor": 0,
  "cells": [
    {
      "metadata": {
        "collapsed": false
      },
      "source": [
        "%matplotlib inline"
      ],
      "execution_count": null,
      "cell_type": "code",
      "outputs": []
    },
    {
      "metadata": {},
      "source": [
        "\nDataset upload tutorial\n=======================\n\nA tutorial on how to create and upload a dataset to OpenML.\n\n"
      ],
      "cell_type": "markdown"
    },
    {
      "metadata": {
        "collapsed": false
      },
      "source": [
        "import numpy as np\nimport openml\nimport sklearn.datasets"
      ],
      "execution_count": null,
      "cell_type": "code",
      "outputs": []
    },
    {
      "metadata": {},
      "source": [
        "For this example we will upload to the test server to not  pollute the live server with countless copies of the same dataset.\n\n"
      ],
      "cell_type": "markdown"
    },
    {
      "metadata": {
        "collapsed": false
      },
      "source": [
        "openml.config.server = 'https://test.openml.org/api/v1/xml'"
      ],
      "execution_count": null,
      "cell_type": "code",
      "outputs": []
    },
    {
      "metadata": {},
      "source": [
        "Prepare the data\n^^^^^^^^^^^^^^^^\nLoad an example dataset from scikit-learn which we will upload to OpenML.org via the API.\n\n"
      ],
      "cell_type": "markdown"
    },
    {
      "metadata": {
        "collapsed": false
      },
      "source": [
        "breast_cancer = sklearn.datasets.load_breast_cancer()\nname = 'BreastCancer(scikit-learn)'\nX = breast_cancer.data\ny = breast_cancer.target\nattribute_names = breast_cancer.feature_names\ntargets = breast_cancer.target_names\ndescription = breast_cancer.DESCR"
      ],
      "execution_count": null,
      "cell_type": "code",
      "outputs": []
    },
    {
      "metadata": {},
      "source": [
        "OpenML does not distinguish between the attributes and targets on the data level and stores all data in a\nsingle matrix. The target feature is indicated as meta-data of the dataset (and tasks on that data).\n\n"
      ],
      "cell_type": "markdown"
    },
    {
      "metadata": {
        "collapsed": false
      },
      "source": [
        "data = np.concatenate((X, y.reshape((-1, 1))), axis=1)\nattribute_names = list(attribute_names)\nattributes = [\n    (attribute_name, 'REAL') for attribute_name in attribute_names\n] + [('class', 'REAL')]"
      ],
      "execution_count": null,
      "cell_type": "code",
      "outputs": []
    },
    {
      "metadata": {},
      "source": [
        "Create the dataset object\n^^^^^^^^^^^^^^^^^^^^^^^^^\nThe definition of all fields can be found in the XSD files describing the expected format:\n\nhttps://github.com/openml/OpenML/blob/master/openml_OS/views/pages/api_new/v1/xsd/openml.data.upload.xsd\n\n"
      ],
      "cell_type": "markdown"
    },
    {
      "metadata": {
        "collapsed": false
      },
      "source": [
        "dataset = openml.datasets.functions.create_dataset(\n    # The name of the dataset (needs to be unique). \n    # Must not be longer than 128 characters and only contain\n    # a-z, A-Z, 0-9 and the following special characters: _\\-\\.(),\n    name=name,\n    # Textual description of the dataset.\n    description=description,\n    # The person who created the dataset.\n    creator='Dr. William H. Wolberg, W. Nick Street, Olvi L. Mangasarian',\n    # People who contributed to the current version of the dataset.\n    contributor=None,\n    # The date the data was originally collected, given by the uploader.\n    collection_date='01-11-1995',\n    # Language in which the data is represented.\n    # Starts with 1 upper case letter, rest lower case, e.g. 'English'.\n    language='English',\n    # License under which the data is/will be distributed.\n    licence='BSD (from scikit-learn)',\n    # Name of the target. Can also have multiple values (comma-separated).\n    default_target_attribute='class',\n    # The attribute that represents the row-id column, if present in the dataset.\n    row_id_attribute=None,\n    # Attributes that should be excluded in modelling, such as identifiers and indexes.\n    ignore_attribute=None,\n    # How to cite the paper.\n    citation=(\n        \"W.N. Street, W.H. Wolberg and O.L. Mangasarian. \"\n        \"Nuclear feature extraction for breast tumor diagnosis. \"\n        \"IS&T/SPIE 1993 International Symposium on Electronic Imaging: Science and Technology, \"\n        \"volume 1905, pages 861-870, San Jose, CA, 1993.\"\n    ),\n    # Attributes of the data\n    attributes=attributes,\n    data=data,\n    # Format of the dataset. Only 'arff' for now.\n    format='arff',\n    # A version label which is provided by the user.\n    version_label='test',\n    original_data_url='https://archive.ics.uci.edu/ml/datasets/Breast+Cancer+Wisconsin+(Diagnostic)',\n    paper_url='https://www.spiedigitallibrary.org/conference-proceedings-of-spie/1905/0000/Nuclear-feature-extraction-for-breast-tumor-diagnosis/10.1117/12.148698.short?SSO=1'\n)"
      ],
      "execution_count": null,
      "cell_type": "code",
      "outputs": []
    },
    {
      "metadata": {
        "collapsed": false
      },
      "source": [
        "try:\n    upload_id = dataset.publish()\n    print('URL for dataset: %s/data/%d' % (openml.config.server, upload_id))\nexcept openml.exceptions.PyOpenMLError as err:\n    print(\"OpenML: {0}\".format(err))"
      ],
      "execution_count": null,
      "cell_type": "code",
      "outputs": []
    }
  ],
  "nbformat": 4
}