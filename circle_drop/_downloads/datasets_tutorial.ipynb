{
  "nbformat_minor": 0, 
  "nbformat": 4, 
  "cells": [
    {
      "execution_count": null, 
      "cell_type": "code", 
      "source": [
        "%matplotlib inline"
      ], 
      "outputs": [], 
      "metadata": {
        "collapsed": false
      }
    }, 
    {
      "source": [
        "\n# Datasets\n\n\nHow to list and download datasets.\n\n"
      ], 
      "cell_type": "markdown", 
      "metadata": {}
    }, 
    {
      "execution_count": null, 
      "cell_type": "code", 
      "source": [
        "import openml\nimport pandas as pd"
      ], 
      "outputs": [], 
      "metadata": {
        "collapsed": false
      }
    }, 
    {
      "source": [
        "List datasets\n=============\n\n"
      ], 
      "cell_type": "markdown", 
      "metadata": {}
    }, 
    {
      "execution_count": null, 
      "cell_type": "code", 
      "source": [
        "openml_list = openml.datasets.list_datasets()  # returns a dict\n\n# Show a nice table with some key data properties\ndatalist = pd.DataFrame.from_dict(openml_list, orient='index')\ndatalist = datalist[[\n    'did', 'name', 'NumberOfInstances',\n    'NumberOfFeatures', 'NumberOfClasses'\n]]\n\nprint(\"First 10 of %s datasets...\" % len(datalist))\ndatalist.head(n=10)"
      ], 
      "outputs": [], 
      "metadata": {
        "collapsed": false
      }
    }, 
    {
      "source": [
        "Exercise 1\n**********\n\n* Find datasets with more than 10000 examples.\n* Find a dataset called 'eeg_eye_state'.\n* Find all datasets with more than 50 classes.\n\n"
      ], 
      "cell_type": "markdown", 
      "metadata": {}
    }, 
    {
      "execution_count": null, 
      "cell_type": "code", 
      "source": [
        "datalist[datalist.NumberOfInstances > 10000\n         ].sort_values(['NumberOfInstances']).head(n=20)"
      ], 
      "outputs": [], 
      "metadata": {
        "collapsed": false
      }
    }, 
    {
      "execution_count": null, 
      "cell_type": "code", 
      "source": [
        "datalist.query('name == \"eeg-eye-state\"')"
      ], 
      "outputs": [], 
      "metadata": {
        "collapsed": false
      }
    }, 
    {
      "execution_count": null, 
      "cell_type": "code", 
      "source": [
        "datalist.query('NumberOfClasses > 50')"
      ], 
      "outputs": [], 
      "metadata": {
        "collapsed": false
      }
    }, 
    {
      "source": [
        "Download datasets\n=================\n\n"
      ], 
      "cell_type": "markdown", 
      "metadata": {}
    }, 
    {
      "execution_count": null, 
      "cell_type": "code", 
      "source": [
        "# This is done based on the dataset ID ('did').\ndataset = openml.datasets.get_dataset(68)\n\n# Print a summary\nprint(\"This is dataset '%s', the target feature is '%s'\" %\n      (dataset.name, dataset.default_target_attribute))\nprint(\"URL: %s\" % dataset.url)\nprint(dataset.description[:500])"
      ], 
      "outputs": [], 
      "metadata": {
        "collapsed": false
      }
    }, 
    {
      "source": [
        "Get the actual data.\n\nReturned as numpy array, with meta-info (e.g. target feature, feature names,...)\n\n"
      ], 
      "cell_type": "markdown", 
      "metadata": {}
    }, 
    {
      "execution_count": null, 
      "cell_type": "code", 
      "source": [
        "X, y, attribute_names = dataset.get_data(\n    target=dataset.default_target_attribute,\n    return_attribute_names=True,\n)\neeg = pd.DataFrame(X, columns=attribute_names)\neeg['class'] = y\nprint(eeg[:10])"
      ], 
      "outputs": [], 
      "metadata": {
        "collapsed": false
      }
    }, 
    {
      "source": [
        "Exercise 2\n**********\n* Explore the data visually.\n\n"
      ], 
      "cell_type": "markdown", 
      "metadata": {}
    }, 
    {
      "execution_count": null, 
      "cell_type": "code", 
      "source": [
        "eegs = eeg.sample(n=1000)\n_ = pd.plotting.scatter_matrix(\n    eegs.iloc[:100, :4],\n    c=eegs[:100]['class'],\n    figsize=(10, 10),\n    marker='o',\n    hist_kwds={'bins': 20},\n    alpha=.8,\n    cmap='plasma'\n)"
      ], 
      "outputs": [], 
      "metadata": {
        "collapsed": false
      }
    }
  ], 
  "metadata": {
    "kernelspec": {
      "display_name": "Python 2", 
      "name": "python2", 
      "language": "python"
    }, 
    "language_info": {
      "mimetype": "text/x-python", 
      "nbconvert_exporter": "python", 
      "name": "python", 
      "file_extension": ".py", 
      "version": "2.7.15", 
      "pygments_lexer": "ipython2", 
      "codemirror_mode": {
        "version": 2, 
        "name": "ipython"
      }
    }
  }
}