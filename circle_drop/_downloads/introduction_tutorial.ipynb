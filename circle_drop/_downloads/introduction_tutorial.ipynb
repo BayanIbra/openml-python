{
  "metadata": {
    "kernelspec": {
      "name": "python3",
      "language": "python",
      "display_name": "Python 3"
    },
    "language_info": {
      "mimetype": "text/x-python",
      "version": "3.5.5",
      "file_extension": ".py",
      "pygments_lexer": "ipython3",
      "codemirror_mode": {
        "version": 3,
        "name": "ipython"
      },
      "nbconvert_exporter": "python",
      "name": "python"
    }
  },
  "cells": [
    {
      "outputs": [],
      "metadata": {
        "collapsed": false
      },
      "execution_count": null,
      "cell_type": "code",
      "source": [
        "%matplotlib inline"
      ]
    },
    {
      "metadata": {},
      "cell_type": "markdown",
      "source": [
        "\nIntroduction\n===================\n\nAn introduction to OpenML, followed up by a simple example.\n\n"
      ]
    },
    {
      "metadata": {},
      "cell_type": "markdown",
      "source": [
        "OpenML is an online collaboration platform for machine learning which allows\nyou to:\n\n* Find or share interesting, well-documented datasets\n* Define research / modelling goals (tasks)\n* Explore large amounts of machine learning algorithms, with APIs in Java, R, Python\n* Log and share reproducible experiments, models, results\n* Works seamlessly with scikit-learn and other libraries\n* Large scale benchmarking, compare to state of the art\n\nInstallation\n^^^^^^^^^^^^\nInstallation is done via ``pip``:\n\n.. code:: bash\n\n    pip install openml\n\nFor further information, please check out the installation guide at https://openml.github.io/openml-python/stable/contributing.html#installation\n\nAuthentication\n^^^^^^^^^^^^^^\n\nThe OpenML server can only be accessed by users who have signed up on the OpenML platform. If you don\u2019t have an account yet, sign up now.\nYou will receive an API key, which will authenticate you to the server and allow you to download and upload datasets, tasks, runs and flows.\n\n* Create an OpenML account (free) on http://www.openml.org.\n* After logging in, open your account page (avatar on the top right)\n* Open 'Account Settings', then 'API authentication' to find your API key.\n\nThere are two ways to authenticate:\n\n* Create a plain text file **~/.openml/config** with the line **'apikey=MYKEY'**, replacing **MYKEY** with your API key. The config file must be in the directory ~/.openml/config and exist prior to importing the openml module\n* Run the code below, replacing 'YOURKEY' with your API key.\n\n"
      ]
    },
    {
      "outputs": [],
      "metadata": {
        "collapsed": false
      },
      "execution_count": null,
      "cell_type": "code",
      "source": [
        "import openml\nfrom sklearn import neighbors\n\n# Uncomment and set your OpenML key. Don't share your key with others.\n# openml.config.apikey = 'YOURKEY'"
      ]
    },
    {
      "metadata": {},
      "cell_type": "markdown",
      "source": [
        "Caching\n^^^^^^^\nWhen downloading datasets, tasks, runs and flows, they will be cached to retrieve them without calling the server later. As with the API key, the cache directory can be either specified through the config file or through the API:\n\n* Add the  line **cachedir = 'MYDIR'** to the config file, replacing 'MYDIR' with the path to the cache directory. By default, OpenML will use **~/.openml/cache** as the cache directory.\n* Run the code below, replacing 'YOURDIR' with the path to the cache directory.\n\n"
      ]
    },
    {
      "outputs": [],
      "metadata": {
        "collapsed": false
      },
      "execution_count": null,
      "cell_type": "code",
      "source": [
        "import os\n# Uncomment and set your OpenML cache directory\n# openml.config.cache_directory = os.path.expanduser('YOURDIR')"
      ]
    },
    {
      "metadata": {},
      "cell_type": "markdown",
      "source": [
        "Simple Example\n^^^^^^^^^^^^^^\nDownload the OpenML task for the eeg-eye-state.\n\n"
      ]
    },
    {
      "outputs": [],
      "metadata": {
        "collapsed": false
      },
      "execution_count": null,
      "cell_type": "code",
      "source": [
        "task = openml.tasks.get_task(403)\ndata = openml.datasets.get_dataset(task.dataset_id)\nclf = neighbors.KNeighborsClassifier(n_neighbors=5)\nflow = openml.flows.sklearn_to_flow(clf)\nrun = openml.runs.run_flow_on_task(flow, task, avoid_duplicate_runs=False)\n# Publish the experiment on OpenML (optional, requires an API key).\n# For this tutorial, our configuration publishes to the test server\n# as to not pollute the main server.\nmyrun = run.publish()\nprint(\"kNN on %s: http://test.openml.org/r/%d\" % (data.name, myrun.run_id))"
      ]
    }
  ],
  "nbformat": 4,
  "nbformat_minor": 0
}