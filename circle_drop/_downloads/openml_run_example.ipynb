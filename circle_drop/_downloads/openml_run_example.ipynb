{
  "cells": [
    {
      "source": [
        "%matplotlib inline"
      ],
      "metadata": {
        "collapsed": false
      },
      "outputs": [],
      "cell_type": "code",
      "execution_count": null
    },
    {
      "source": [
        "\nOpenML Run Example\n==================\n\nAn example of an automated machine learning experiment.\n\n"
      ],
      "metadata": {},
      "cell_type": "markdown"
    },
    {
      "source": [
        "import openml\nfrom sklearn import tree, preprocessing, pipeline\n\n# Uncomment and set your OpenML key. Don't share your key with others.\n# openml.config.apikey = 'YOURKEY'\n\n# Define a scikit-learn pipeline\nclf = pipeline.Pipeline(\n    steps=[\n        ('imputer', preprocessing.Imputer()),\n        ('estimator', tree.DecisionTreeClassifier())\n    ]\n)"
      ],
      "metadata": {
        "collapsed": false
      },
      "outputs": [],
      "cell_type": "code",
      "execution_count": null
    },
    {
      "source": [
        "Download the OpenML task for the german credit card dataset.\n\n"
      ],
      "metadata": {},
      "cell_type": "markdown"
    },
    {
      "source": [
        "task = openml.tasks.get_task(97)"
      ],
      "metadata": {
        "collapsed": false
      },
      "outputs": [],
      "cell_type": "code",
      "execution_count": null
    },
    {
      "source": [
        "Run the scikit-learn model on the task (requires an API key).\n\n"
      ],
      "metadata": {},
      "cell_type": "markdown"
    },
    {
      "source": [
        "run = openml.runs.run_model_on_task(clf, task)\n# Publish the experiment on OpenML (optional, requires an API key).\nrun.publish()\n\nprint('URL for run: %s/run/%d' % (openml.config.server, run.run_id))"
      ],
      "metadata": {
        "collapsed": false
      },
      "outputs": [],
      "cell_type": "code",
      "execution_count": null
    }
  ],
  "metadata": {
    "language_info": {
      "pygments_lexer": "ipython3",
      "version": "3.5.6",
      "file_extension": ".py",
      "nbconvert_exporter": "python",
      "codemirror_mode": {
        "name": "ipython",
        "version": 3
      },
      "mimetype": "text/x-python",
      "name": "python"
    },
    "kernelspec": {
      "display_name": "Python 3",
      "language": "python",
      "name": "python3"
    }
  },
  "nbformat_minor": 0,
  "nbformat": 4
}