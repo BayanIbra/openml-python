{
  "nbformat": 4,
  "metadata": {
    "language_info": {
      "nbconvert_exporter": "python",
      "mimetype": "text/x-python",
      "file_extension": ".py",
      "version": "3.5.6",
      "name": "python",
      "pygments_lexer": "ipython3",
      "codemirror_mode": {
        "name": "ipython",
        "version": 3
      }
    },
    "kernelspec": {
      "name": "python3",
      "display_name": "Python 3",
      "language": "python"
    }
  },
  "nbformat_minor": 0,
  "cells": [
    {
      "source": [
        "%matplotlib inline"
      ],
      "execution_count": null,
      "cell_type": "code",
      "metadata": {
        "collapsed": false
      },
      "outputs": []
    },
    {
      "source": [
        "\nOpenML Run Example\n==================\n\nAn example of an automated machine learning experiment.\n\n"
      ],
      "cell_type": "markdown",
      "metadata": {}
    },
    {
      "source": [
        "import openml\nfrom sklearn import tree, preprocessing, pipeline\n\n# Uncomment and set your OpenML key. Don't share your key with others.\n# openml.config.apikey = 'YOURKEY'\n\n# Define a scikit-learn pipeline\nclf = pipeline.Pipeline(\n    steps=[\n        ('imputer', preprocessing.Imputer()),\n        ('estimator', tree.DecisionTreeClassifier())\n    ]\n)"
      ],
      "execution_count": null,
      "cell_type": "code",
      "metadata": {
        "collapsed": false
      },
      "outputs": []
    },
    {
      "source": [
        "Download the OpenML task for the german credit card dataset.\n\n"
      ],
      "cell_type": "markdown",
      "metadata": {}
    },
    {
      "source": [
        "task = openml.tasks.get_task(97)"
      ],
      "execution_count": null,
      "cell_type": "code",
      "metadata": {
        "collapsed": false
      },
      "outputs": []
    },
    {
      "source": [
        "Run the scikit-learn model on the task (requires an API key).\n\n"
      ],
      "cell_type": "markdown",
      "metadata": {}
    },
    {
      "source": [
        "run = openml.runs.run_model_on_task(clf, task)\n# Publish the experiment on OpenML (optional, requires an API key).\nrun.publish()\n\nprint('URL for run: %s/run/%d' % (openml.config.server, run.run_id))"
      ],
      "execution_count": null,
      "cell_type": "code",
      "metadata": {
        "collapsed": false
      },
      "outputs": []
    }
  ]
}